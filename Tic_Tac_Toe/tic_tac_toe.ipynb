{
 "cells": [
  {
   "cell_type": "markdown",
   "metadata": {},
   "source": [
    "# TicTacToe"
   ]
  },
  {
   "cell_type": "code",
   "execution_count": 161,
   "metadata": {},
   "outputs": [],
   "source": [
    "import random\n",
    "import time"
   ]
  },
  {
   "cell_type": "markdown",
   "metadata": {},
   "source": [
    "### Game Driver"
   ]
  },
  {
   "cell_type": "code",
   "execution_count": 230,
   "metadata": {},
   "outputs": [
    {
     "ename": "KeyboardInterrupt",
     "evalue": "",
     "output_type": "error",
     "traceback": [
      "\u001b[0;31m---------------------------------------------------------------------------\u001b[0m",
      "\u001b[0;31mKeyboardInterrupt\u001b[0m                         Traceback (most recent call last)",
      "\u001b[0;32m~/anaconda3/lib/python3.7/site-packages/ipykernel/kernelbase.py\u001b[0m in \u001b[0;36m_input_request\u001b[0;34m(self, prompt, ident, parent, password)\u001b[0m\n\u001b[1;32m    884\u001b[0m             \u001b[0;32mtry\u001b[0m\u001b[0;34m:\u001b[0m\u001b[0;34m\u001b[0m\u001b[0;34m\u001b[0m\u001b[0m\n\u001b[0;32m--> 885\u001b[0;31m                 \u001b[0mident\u001b[0m\u001b[0;34m,\u001b[0m \u001b[0mreply\u001b[0m \u001b[0;34m=\u001b[0m \u001b[0mself\u001b[0m\u001b[0;34m.\u001b[0m\u001b[0msession\u001b[0m\u001b[0;34m.\u001b[0m\u001b[0mrecv\u001b[0m\u001b[0;34m(\u001b[0m\u001b[0mself\u001b[0m\u001b[0;34m.\u001b[0m\u001b[0mstdin_socket\u001b[0m\u001b[0;34m,\u001b[0m \u001b[0;36m0\u001b[0m\u001b[0;34m)\u001b[0m\u001b[0;34m\u001b[0m\u001b[0;34m\u001b[0m\u001b[0m\n\u001b[0m\u001b[1;32m    886\u001b[0m             \u001b[0;32mexcept\u001b[0m \u001b[0mException\u001b[0m\u001b[0;34m:\u001b[0m\u001b[0;34m\u001b[0m\u001b[0;34m\u001b[0m\u001b[0m\n",
      "\u001b[0;32m~/anaconda3/lib/python3.7/site-packages/jupyter_client/session.py\u001b[0m in \u001b[0;36mrecv\u001b[0;34m(self, socket, mode, content, copy)\u001b[0m\n\u001b[1;32m    802\u001b[0m         \u001b[0;32mtry\u001b[0m\u001b[0;34m:\u001b[0m\u001b[0;34m\u001b[0m\u001b[0;34m\u001b[0m\u001b[0m\n\u001b[0;32m--> 803\u001b[0;31m             \u001b[0mmsg_list\u001b[0m \u001b[0;34m=\u001b[0m \u001b[0msocket\u001b[0m\u001b[0;34m.\u001b[0m\u001b[0mrecv_multipart\u001b[0m\u001b[0;34m(\u001b[0m\u001b[0mmode\u001b[0m\u001b[0;34m,\u001b[0m \u001b[0mcopy\u001b[0m\u001b[0;34m=\u001b[0m\u001b[0mcopy\u001b[0m\u001b[0;34m)\u001b[0m\u001b[0;34m\u001b[0m\u001b[0;34m\u001b[0m\u001b[0m\n\u001b[0m\u001b[1;32m    804\u001b[0m         \u001b[0;32mexcept\u001b[0m \u001b[0mzmq\u001b[0m\u001b[0;34m.\u001b[0m\u001b[0mZMQError\u001b[0m \u001b[0;32mas\u001b[0m \u001b[0me\u001b[0m\u001b[0;34m:\u001b[0m\u001b[0;34m\u001b[0m\u001b[0;34m\u001b[0m\u001b[0m\n",
      "\u001b[0;32m~/anaconda3/lib/python3.7/site-packages/zmq/sugar/socket.py\u001b[0m in \u001b[0;36mrecv_multipart\u001b[0;34m(self, flags, copy, track)\u001b[0m\n\u001b[1;32m    469\u001b[0m         \"\"\"\n\u001b[0;32m--> 470\u001b[0;31m         \u001b[0mparts\u001b[0m \u001b[0;34m=\u001b[0m \u001b[0;34m[\u001b[0m\u001b[0mself\u001b[0m\u001b[0;34m.\u001b[0m\u001b[0mrecv\u001b[0m\u001b[0;34m(\u001b[0m\u001b[0mflags\u001b[0m\u001b[0;34m,\u001b[0m \u001b[0mcopy\u001b[0m\u001b[0;34m=\u001b[0m\u001b[0mcopy\u001b[0m\u001b[0;34m,\u001b[0m \u001b[0mtrack\u001b[0m\u001b[0;34m=\u001b[0m\u001b[0mtrack\u001b[0m\u001b[0;34m)\u001b[0m\u001b[0;34m]\u001b[0m\u001b[0;34m\u001b[0m\u001b[0;34m\u001b[0m\u001b[0m\n\u001b[0m\u001b[1;32m    471\u001b[0m         \u001b[0;31m# have first part already, only loop while more to receive\u001b[0m\u001b[0;34m\u001b[0m\u001b[0;34m\u001b[0m\u001b[0;34m\u001b[0m\u001b[0m\n",
      "\u001b[0;32mzmq/backend/cython/socket.pyx\u001b[0m in \u001b[0;36mzmq.backend.cython.socket.Socket.recv\u001b[0;34m()\u001b[0m\n",
      "\u001b[0;32mzmq/backend/cython/socket.pyx\u001b[0m in \u001b[0;36mzmq.backend.cython.socket.Socket.recv\u001b[0;34m()\u001b[0m\n",
      "\u001b[0;32mzmq/backend/cython/socket.pyx\u001b[0m in \u001b[0;36mzmq.backend.cython.socket._recv_copy\u001b[0;34m()\u001b[0m\n",
      "\u001b[0;32m~/anaconda3/lib/python3.7/site-packages/zmq/backend/cython/checkrc.pxd\u001b[0m in \u001b[0;36mzmq.backend.cython.checkrc._check_rc\u001b[0;34m()\u001b[0m\n",
      "\u001b[0;31mKeyboardInterrupt\u001b[0m: ",
      "\nDuring handling of the above exception, another exception occurred:\n",
      "\u001b[0;31mKeyboardInterrupt\u001b[0m                         Traceback (most recent call last)",
      "\u001b[0;32m<ipython-input-230-997cfb83e75b>\u001b[0m in \u001b[0;36m<module>\u001b[0;34m\u001b[0m\n\u001b[1;32m     46\u001b[0m                 \u001b[0mboard\u001b[0m \u001b[0;34m=\u001b[0m \u001b[0;34m[\u001b[0m\u001b[0;34m[\u001b[0m\u001b[0;34m' '\u001b[0m \u001b[0;34m,\u001b[0m \u001b[0;34m' '\u001b[0m\u001b[0;34m,\u001b[0m \u001b[0;34m' '\u001b[0m\u001b[0;34m]\u001b[0m\u001b[0;34m,\u001b[0m \u001b[0;34m[\u001b[0m\u001b[0;34m' '\u001b[0m\u001b[0;34m,\u001b[0m \u001b[0;34m' '\u001b[0m\u001b[0;34m,\u001b[0m \u001b[0;34m' '\u001b[0m\u001b[0;34m]\u001b[0m\u001b[0;34m,\u001b[0m\u001b[0;34m[\u001b[0m\u001b[0;34m' '\u001b[0m\u001b[0;34m,\u001b[0m \u001b[0;34m' '\u001b[0m\u001b[0;34m,\u001b[0m \u001b[0;34m' '\u001b[0m\u001b[0;34m]\u001b[0m\u001b[0;34m]\u001b[0m\u001b[0;34m\u001b[0m\u001b[0;34m\u001b[0m\u001b[0m\n\u001b[1;32m     47\u001b[0m \u001b[0;34m\u001b[0m\u001b[0m\n\u001b[0;32m---> 48\u001b[0;31m \u001b[0mstart_tictactoe\u001b[0m\u001b[0;34m(\u001b[0m\u001b[0;34m)\u001b[0m\u001b[0;34m\u001b[0m\u001b[0;34m\u001b[0m\u001b[0m\n\u001b[0m",
      "\u001b[0;32m<ipython-input-230-997cfb83e75b>\u001b[0m in \u001b[0;36mstart_tictactoe\u001b[0;34m()\u001b[0m\n\u001b[1;32m      3\u001b[0m     \u001b[0mtie\u001b[0m \u001b[0;34m=\u001b[0m \u001b[0;36m0\u001b[0m \u001b[0;31m# Checks to see if there is a tie. If the num goes up to 9, it is a tie\u001b[0m\u001b[0;34m\u001b[0m\u001b[0;34m\u001b[0m\u001b[0m\n\u001b[1;32m      4\u001b[0m     \u001b[0mwinner\u001b[0m \u001b[0;34m=\u001b[0m \u001b[0;32mFalse\u001b[0m\u001b[0;34m\u001b[0m\u001b[0;34m\u001b[0m\u001b[0m\n\u001b[0;32m----> 5\u001b[0;31m     \u001b[0mplayer_1\u001b[0m\u001b[0;34m,\u001b[0m\u001b[0mplayer_2\u001b[0m\u001b[0;34m,\u001b[0m\u001b[0mfirst_to_go\u001b[0m\u001b[0;34m,\u001b[0m\u001b[0mboard\u001b[0m \u001b[0;34m=\u001b[0m \u001b[0mname_of_user\u001b[0m\u001b[0;34m(\u001b[0m\u001b[0;34m)\u001b[0m\u001b[0;34m\u001b[0m\u001b[0;34m\u001b[0m\u001b[0m\n\u001b[0m\u001b[1;32m      6\u001b[0m     \u001b[0mprint\u001b[0m\u001b[0;34m(\u001b[0m\u001b[0mboard\u001b[0m\u001b[0;34m)\u001b[0m\u001b[0;34m\u001b[0m\u001b[0;34m\u001b[0m\u001b[0m\n\u001b[1;32m      7\u001b[0m     \u001b[0mplayer_won\u001b[0m \u001b[0;34m=\u001b[0m \u001b[0;34m''\u001b[0m\u001b[0;34m\u001b[0m\u001b[0;34m\u001b[0m\u001b[0m\n",
      "\u001b[0;32m<ipython-input-108-4afeed0ec715>\u001b[0m in \u001b[0;36mname_of_user\u001b[0;34m()\u001b[0m\n\u001b[1;32m      6\u001b[0m     \u001b[0mfree_space\u001b[0m \u001b[0;34m=\u001b[0m \u001b[0;36m0\u001b[0m\u001b[0;34m\u001b[0m\u001b[0;34m\u001b[0m\u001b[0m\n\u001b[1;32m      7\u001b[0m \u001b[0;34m\u001b[0m\u001b[0m\n\u001b[0;32m----> 8\u001b[0;31m     \u001b[0muser_1\u001b[0m \u001b[0;34m=\u001b[0m \u001b[0minput\u001b[0m\u001b[0;34m(\u001b[0m\u001b[0;34m'Please enter name of Player 1: '\u001b[0m\u001b[0;34m)\u001b[0m\u001b[0;34m\u001b[0m\u001b[0;34m\u001b[0m\u001b[0m\n\u001b[0m\u001b[1;32m      9\u001b[0m     \u001b[0muser_2\u001b[0m \u001b[0;34m=\u001b[0m \u001b[0minput\u001b[0m\u001b[0;34m(\u001b[0m\u001b[0;34m'Please enter name of Player 2: '\u001b[0m\u001b[0;34m)\u001b[0m\u001b[0;34m\u001b[0m\u001b[0;34m\u001b[0m\u001b[0m\n\u001b[1;32m     10\u001b[0m \u001b[0;34m\u001b[0m\u001b[0m\n",
      "\u001b[0;32m~/anaconda3/lib/python3.7/site-packages/ipykernel/kernelbase.py\u001b[0m in \u001b[0;36mraw_input\u001b[0;34m(self, prompt)\u001b[0m\n\u001b[1;32m    858\u001b[0m             \u001b[0mself\u001b[0m\u001b[0;34m.\u001b[0m\u001b[0m_parent_ident\u001b[0m\u001b[0;34m,\u001b[0m\u001b[0;34m\u001b[0m\u001b[0;34m\u001b[0m\u001b[0m\n\u001b[1;32m    859\u001b[0m             \u001b[0mself\u001b[0m\u001b[0;34m.\u001b[0m\u001b[0m_parent_header\u001b[0m\u001b[0;34m,\u001b[0m\u001b[0;34m\u001b[0m\u001b[0;34m\u001b[0m\u001b[0m\n\u001b[0;32m--> 860\u001b[0;31m             \u001b[0mpassword\u001b[0m\u001b[0;34m=\u001b[0m\u001b[0;32mFalse\u001b[0m\u001b[0;34m,\u001b[0m\u001b[0;34m\u001b[0m\u001b[0;34m\u001b[0m\u001b[0m\n\u001b[0m\u001b[1;32m    861\u001b[0m         )\n\u001b[1;32m    862\u001b[0m \u001b[0;34m\u001b[0m\u001b[0m\n",
      "\u001b[0;32m~/anaconda3/lib/python3.7/site-packages/ipykernel/kernelbase.py\u001b[0m in \u001b[0;36m_input_request\u001b[0;34m(self, prompt, ident, parent, password)\u001b[0m\n\u001b[1;32m    888\u001b[0m             \u001b[0;32mexcept\u001b[0m \u001b[0mKeyboardInterrupt\u001b[0m\u001b[0;34m:\u001b[0m\u001b[0;34m\u001b[0m\u001b[0;34m\u001b[0m\u001b[0m\n\u001b[1;32m    889\u001b[0m                 \u001b[0;31m# re-raise KeyboardInterrupt, to truncate traceback\u001b[0m\u001b[0;34m\u001b[0m\u001b[0;34m\u001b[0m\u001b[0;34m\u001b[0m\u001b[0m\n\u001b[0;32m--> 890\u001b[0;31m                 \u001b[0;32mraise\u001b[0m \u001b[0mKeyboardInterrupt\u001b[0m\u001b[0;34m\u001b[0m\u001b[0;34m\u001b[0m\u001b[0m\n\u001b[0m\u001b[1;32m    891\u001b[0m             \u001b[0;32melse\u001b[0m\u001b[0;34m:\u001b[0m\u001b[0;34m\u001b[0m\u001b[0;34m\u001b[0m\u001b[0m\n\u001b[1;32m    892\u001b[0m                 \u001b[0;32mbreak\u001b[0m\u001b[0;34m\u001b[0m\u001b[0;34m\u001b[0m\u001b[0m\n",
      "\u001b[0;31mKeyboardInterrupt\u001b[0m: "
     ]
    }
   ],
   "source": [
    "def start_tictactoe():\n",
    "    \n",
    "    tie = 0 # Checks to see if there is a tie. If the num goes up to 9, it is a tie\n",
    "    winner = False \n",
    "    player_1,player_2,first_to_go,board = name_of_user()\n",
    "    print(board)\n",
    "    player_won = ''\n",
    "    play_again = 'Y'\n",
    "    while play_again!= 'N':\n",
    "        while winner != True:\n",
    "            if first_to_go == 1 and tie!=9:\n",
    "                board = user_input(player_1,1,board)\n",
    "                winner = game_over(board,1)\n",
    "                if winner!= True:\n",
    "                    first_to_go = 2\n",
    "                    tie += 1\n",
    "                    print(f'tie is: {tie}')\n",
    "                else:\n",
    "                    player_won = player_1\n",
    "                    break\n",
    "                    \n",
    "            if first_to_go == 2 and tie != 9:\n",
    "                board = user_input(player_2,2,board)\n",
    "                winner = game_over(board,2)\n",
    "                if winner != True:\n",
    "                    first_to_go = 1\n",
    "                    tie+=1\n",
    "                    print(f'tie is: {tie}')\n",
    "                else:\n",
    "                    player_won = player_2\n",
    "                    break\n",
    "            \n",
    "            if tie == 9:\n",
    "                break\n",
    "        \n",
    "        if tie == 9:\n",
    "            play_again = input(\"It's a tie\\nWould you like to play again? (Y/N)\").upper()\n",
    "            if play_again == 'Y':\n",
    "                winner = False\n",
    "                board = [[' ' , ' ', ' '], [' ', ' ', ' '],[' ', ' ', ' ']]\n",
    "        else:\n",
    "            play_again = input(f'Congratulations {player_won}!!!\\nWould you like to play again? (Y/N)').upper()\n",
    "            if play_again == 'Y':\n",
    "                winner = False\n",
    "                tie = 0\n",
    "                board = [[' ' , ' ', ' '], [' ', ' ', ' '],[' ', ' ', ' ']]\n",
    "\n",
    "start_tictactoe()"
   ]
  },
  {
   "cell_type": "markdown",
   "metadata": {},
   "source": [
    "### Enter Names & Who goes first\n"
   ]
  },
  {
   "cell_type": "code",
   "execution_count": 108,
   "metadata": {},
   "outputs": [],
   "source": [
    "# Users enter name, decides who goes first\n",
    "# Returns user 1 and 2 name and who goes first and the board\n",
    "\n",
    "def name_of_user():\n",
    "    board = [' ' , ' ', ' '], [' ', ' ', ' '],[' ', ' ', ' ']\n",
    "    free_space = 0\n",
    "    \n",
    "    user_1 = input('Please enter name of Player 1: ')\n",
    "    user_2 = input('Please enter name of Player 2: ')\n",
    "    \n",
    "    print(f'\\nHello {user_1} and {user_2}. We will now decide who goes first')\n",
    "    rand_num = random.randrange(1,3)\n",
    "    time.sleep(2)\n",
    "    if rand_num == 1:\n",
    "        print(f'{user_1} gets to go first! (X)')\n",
    "    else:\n",
    "        print(f'{user_2} gets to go first! (O)')\n",
    "    \n",
    "    return user_1,user_2,rand_num,board"
   ]
  },
  {
   "cell_type": "markdown",
   "metadata": {},
   "source": [
    "### Display The Board"
   ]
  },
  {
   "cell_type": "code",
   "execution_count": 107,
   "metadata": {},
   "outputs": [],
   "source": [
    "# Displays board and returns the first three rows\n",
    "# Returns rows 1,2,3\n",
    "\n",
    "def display_board(board):\n",
    "    for i in board:\n",
    "        print(i)\n"
   ]
  },
  {
   "cell_type": "markdown",
   "metadata": {},
   "source": [
    "### Take in inputs"
   ]
  },
  {
   "cell_type": "code",
   "execution_count": 114,
   "metadata": {},
   "outputs": [],
   "source": [
    "def user_input(player_name, player, board):\n",
    "    \n",
    "    is_input_valid = False # Checks if the player selected the correct options that were given\n",
    "    user_input_valid = False # Bool value if there wasn't any other piece on board\n",
    "    valid_user_input = ['tl','t','tr','ml','m','mr','bl','b','br'] # List of all valid player choices\n",
    "    while user_input_valid != True:\n",
    "        while is_input_valid != True:\n",
    "            print(f\"\\nIt's your turn {player_name}\\n\")\n",
    "            print(f'\\nPlease enter which tile you want to choose!\\n')\n",
    "            user_input = input('\\nPlease choose between:\\ntop left(tl), top(t), top right(tr)\\nmid left(ml), middle(m), mid right(mr)\\nbottom left(bl), bottom(b), bottom right(br)\\n')\n",
    "            \n",
    "            for inputs in valid_user_input: # Checks if the input was in \n",
    "                if inputs == user_input:\n",
    "                    is_input_valid = True\n",
    "                else:\n",
    "                    pass\n",
    "                \n",
    "        user_input_valid,board = validate_input(player, user_input, board)\n",
    "        if user_input_valid == True:\n",
    "            print('\\nThe board has been updated!')\n",
    "            display_board(board)\n",
    "        else:\n",
    "            is_input_valid = False\n",
    "            print('\\nThere is already an X/O on that spot.\\n')\n",
    "    return board\n",
    "\n",
    "#board = [[' ' , ' ', ' '], [' ', ' ', ' '],[' ', ' ', ' ']]\n",
    "#user_input(\"Sanaa\",2,board)\n",
    "#user_input(\"Kimiko\",1,board)"
   ]
  },
  {
   "cell_type": "code",
   "execution_count": null,
   "metadata": {},
   "outputs": [],
   "source": []
  },
  {
   "cell_type": "markdown",
   "metadata": {},
   "source": [
    "### Validate Input"
   ]
  },
  {
   "cell_type": "code",
   "execution_count": 115,
   "metadata": {},
   "outputs": [],
   "source": [
    "# Checks if there was a change in the board\n",
    "# returns True if the board was changed\n",
    "# returns False if there was already something on what the user selected\n",
    "\n",
    "def validate_input(player, user_input, board):\n",
    "    valid_input = False # Changes to true if the board was changed\n",
    "    if player == 1:\n",
    "        if user_input == 'tl':\n",
    "            \n",
    "            if board[0][0] == ' ':\n",
    "                board[0][0] = 'X'\n",
    "                valid_input = True\n",
    "        elif user_input == 't':\n",
    "            if board[0][1] == ' ':\n",
    "                board[0][1] = 'X'\n",
    "                valid_input = True\n",
    "        elif user_input == 'tr':\n",
    "            if board[0][2] == ' ':\n",
    "                board[0][2] = 'X'\n",
    "                valid_input = True\n",
    "        elif user_input == 'ml':\n",
    "            if board[1][0] == ' ':\n",
    "                board[1][0] = 'X'\n",
    "                valid_input = True\n",
    "        elif user_input == 'm':\n",
    "            if board[1][1] == ' ':\n",
    "                board[1][1] = 'X'\n",
    "                valid_input = True\n",
    "        elif user_input == 'mr':\n",
    "            if board[1][2] == ' ':\n",
    "                board[1][2] = 'X'\n",
    "                valid_input = True\n",
    "        elif user_input == 'bl':\n",
    "            if board[2][0] == ' ':\n",
    "                board[2][0] = 'X'\n",
    "                valid_input = True\n",
    "        elif user_input == 'b':\n",
    "            if board[2][1] == ' ':\n",
    "                board[2][1] = 'X'\n",
    "                valid_input = True\n",
    "        elif user_input == 'br':\n",
    "            if board[2][2] == ' ':\n",
    "                board[2][2] = 'X'\n",
    "                valid_input = True\n",
    "                \n",
    "    if player == 2:\n",
    "        if user_input == 'tl':\n",
    "            if board[0][0] == ' ':\n",
    "                board[0][0] = 'O'\n",
    "                valid_input = True\n",
    "        elif user_input == 't':\n",
    "            if board[0][1] == ' ':\n",
    "                board[0][1] = 'O'\n",
    "                valid_input = True\n",
    "        elif user_input == 'tr':\n",
    "            if board[0][2] == ' ':\n",
    "                board[0][2] = 'O'\n",
    "                valid_input = True\n",
    "        elif user_input == 'ml':\n",
    "            if board[1][0] == ' ':\n",
    "                board[1][0] = 'O'\n",
    "                valid_input = True\n",
    "        elif user_input == 'm':\n",
    "            if board[1][1] == ' ':\n",
    "                board[1][1] = 'O'\n",
    "                valid_input = True\n",
    "        elif user_input == 'mr':\n",
    "            if board[1][2] == ' ':\n",
    "                board[1][2] = 'O'\n",
    "                valid_input = True\n",
    "        elif user_input == 'bl':\n",
    "            if board[2][0] == ' ':\n",
    "                board[2][0] = 'O'\n",
    "                valid_input = True\n",
    "        elif user_input == 'b':\n",
    "            if board[2][1] == ' ':\n",
    "                board[2][1] = 'O'\n",
    "                valid_input = True\n",
    "        elif user_input == 'br':\n",
    "            if board[2][2] == ' ':\n",
    "                board[2][2] = 'O'\n",
    "                valid_input = True\n",
    "    \n",
    "    if valid_input == True:\n",
    "        return True,board\n",
    "    else: \n",
    "        return False,board"
   ]
  },
  {
   "cell_type": "markdown",
   "metadata": {},
   "source": [
    "### Check"
   ]
  },
  {
   "cell_type": "code",
   "execution_count": 218,
   "metadata": {},
   "outputs": [],
   "source": [
    "# Takes in the board, is_game_over to check if the game is over and the number of the player to go\n",
    "# Returns found (bool value that dictates if the game is over or not)\n",
    "\n",
    "def game_over(board, player):\n",
    "    found = False\n",
    "    if player == 1:\n",
    "        for x in range(0,len(board)-1):\n",
    "            if board[0:3][x] == ['X','X','X']:\n",
    "                found = True\n",
    "                break\n",
    "            #elif board[x][0:3] == ['X','X','X']:\n",
    "            #   found = True\n",
    "            #   break\n",
    "            elif board[0][0] == 'X' and board[1][1] =='X' and board[2][2] == 'X':\n",
    "                found = True\n",
    "                break\n",
    "            elif board[2][0] == 'X' and board[1][1] == 'X' and board[0][2] == 'X':\n",
    "                found = True\n",
    "                break\n",
    "            else:\n",
    "                x_counter = 0 # Counts the horizontal X's\n",
    "                for y in range (0,len(board)):\n",
    "                    if board[y][x] == 'X':\n",
    "                        x_counter+=1\n",
    "                        if x_counter == 3:\n",
    "                            found = True\n",
    "                            break \n",
    "                \n",
    "    if player == 2:     \n",
    "        for x in range(0,len(board)-1):\n",
    "            if board[0:3][x] == ['O','O','O']:\n",
    "                found = True\n",
    "                break\n",
    "            elif board[0][0] == 'O' and board[1][1] =='O' and board[2][2] == 'O':\n",
    "                found = True\n",
    "                break\n",
    "            elif board[2][0] == 'O' and board[1][1] == 'O' and board[0][2] == 'O':\n",
    "                found = True\n",
    "                break\n",
    "            else:\n",
    "                o_counter = 0 # Counts the horizontal O's\n",
    "                for y in range (0,len(board)):\n",
    "                    if board[y][x] == 'O':\n",
    "                        o_counter+=1\n",
    "                        if o_counter == 3:\n",
    "                            found = True\n",
    "                            break \n",
    "    \n",
    "    return found"
   ]
  },
  {
   "cell_type": "code",
   "execution_count": 1,
   "metadata": {},
   "outputs": [
    {
     "name": "stdout",
     "output_type": "stream",
     "text": [
      "['x1', 'x2', 'x']\n",
      " \n",
      "x1 1  \n",
      "0\n",
      "1\n",
      "2\n"
     ]
    }
   ],
   "source": [
    "board = ['x1','x2','x'], ['1', ' x', ' '],[' ', 'x', ' ']\n",
    "if board[1][0:1] == ['x','x','x']:\n",
    "    print('winner winner')\n",
    "print(board[0][0:3])\n",
    "print(board[1][2])\n",
    "print(board[0][0], board[1][0],board[2][0])\n",
    "for x in range(0,3):\n",
    "    print(x)"
   ]
  },
  {
   "cell_type": "code",
   "execution_count": 3,
   "metadata": {},
   "outputs": [
    {
     "ename": "SyntaxError",
     "evalue": "invalid syntax (<ipython-input-3-7ca3f8384f9c>, line 3)",
     "output_type": "error",
     "traceback": [
      "\u001b[0;36m  File \u001b[0;32m\"<ipython-input-3-7ca3f8384f9c>\"\u001b[0;36m, line \u001b[0;32m3\u001b[0m\n\u001b[0;31m    for  in list_of_number:\u001b[0m\n\u001b[0m          ^\u001b[0m\n\u001b[0;31mSyntaxError\u001b[0m\u001b[0;31m:\u001b[0m invalid syntax\n"
     ]
    }
   ],
   "source": [
    "integer = [1,2,3,4]\n",
    "\n",
    "for  in list_of_number:\n",
    "    print(num)"
   ]
  },
  {
   "cell_type": "code",
   "execution_count": null,
   "metadata": {},
   "outputs": [],
   "source": []
  }
 ],
 "metadata": {
  "kernelspec": {
   "display_name": "Python 3",
   "language": "python",
   "name": "python3"
  },
  "language_info": {
   "codemirror_mode": {
    "name": "ipython",
    "version": 3
   },
   "file_extension": ".py",
   "mimetype": "text/x-python",
   "name": "python",
   "nbconvert_exporter": "python",
   "pygments_lexer": "ipython3",
   "version": "3.7.3"
  }
 },
 "nbformat": 4,
 "nbformat_minor": 2
}
